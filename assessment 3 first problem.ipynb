{
 "cells": [
  {
   "cell_type": "code",
   "execution_count": 4,
   "id": "c3db78c2",
   "metadata": {},
   "outputs": [
    {
     "name": "stdout",
     "output_type": "stream",
     "text": [
      "Sum of number [8, 2, 3, 0, 7] = 20\n"
     ]
    }
   ],
   "source": [
    "def sum_of_numbers(sample_list):          \n",
    "    total = 0                        \n",
    "    i= 0\n",
    "    while i < len(sample_list):\n",
    "        total+= sample_list[i]\n",
    "        i+= 1\n",
    "    return total\n",
    "sample_list = [8, 2, 3, 0, 7]      \n",
    "sum = sum_of_numbers(sample_list)\n",
    "print(\"Sum of number {} = {}\".format(sample_list, summ))  "
   ]
  },
  {
   "cell_type": "code",
   "execution_count": null,
   "id": "e1a8a9c8",
   "metadata": {},
   "outputs": [],
   "source": []
  }
 ],
 "metadata": {
  "kernelspec": {
   "display_name": "Python 3 (ipykernel)",
   "language": "python",
   "name": "python3"
  },
  "language_info": {
   "codemirror_mode": {
    "name": "ipython",
    "version": 3
   },
   "file_extension": ".py",
   "mimetype": "text/x-python",
   "name": "python",
   "nbconvert_exporter": "python",
   "pygments_lexer": "ipython3",
   "version": "3.10.9"
  }
 },
 "nbformat": 4,
 "nbformat_minor": 5
}
